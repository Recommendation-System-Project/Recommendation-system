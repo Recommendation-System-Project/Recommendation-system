{
  "nbformat": 4,
  "nbformat_minor": 0,
  "metadata": {
    "colab": {
      "name": "Propensities_Coat.ipynb",
      "provenance": [],
      "authorship_tag": "ABX9TyPbtIACRzxWCjlLvqECrGaC",
      "include_colab_link": true
    },
    "kernelspec": {
      "name": "python3",
      "display_name": "Python 3"
    },
    "language_info": {
      "name": "python"
    }
  },
  "cells": [
    {
      "cell_type": "markdown",
      "metadata": {
        "id": "view-in-github",
        "colab_type": "text"
      },
      "source": [
        "<a href=\"https://colab.research.google.com/github/Recommendation-System-Project/Recommendation-system/blob/main/Propensities_Coat.ipynb\" target=\"_parent\"><img src=\"https://colab.research.google.com/assets/colab-badge.svg\" alt=\"Open In Colab\"/></a>"
      ]
    },
    {
      "cell_type": "code",
      "source": [
        "import pandas as pd\n",
        "import numpy as np"
      ],
      "metadata": {
        "id": "WRZrwDi3epj1"
      },
      "execution_count": 3,
      "outputs": []
    },
    {
      "cell_type": "code",
      "execution_count": 4,
      "metadata": {
        "id": "AlhwidtJZsGZ"
      },
      "outputs": [],
      "source": [
        "item_features = np.genfromtxt(\"data/item_features.ascii\", dtype=None)\n",
        "user_features = np.genfromtxt(\"data/user_features.ascii\", dtype=None)\n",
        "train = np.genfromtxt(\"data/train.ascii\", dtype=None)\n",
        "test = np.genfromtxt(\"data/test.ascii\", dtype=None)"
      ]
    },
    {
      "cell_type": "code",
      "source": [
        "print(\"item feature shape: \", item_features.shape)\n",
        "print(\"user feature shape: \", user_features.shape)\n",
        "print(\"train shape: \", train.shape)\n",
        "print(\"test shape: \", test.shape)"
      ],
      "metadata": {
        "colab": {
          "base_uri": "https://localhost:8080/"
        },
        "id": "9RLSyL8-fdS2",
        "outputId": "4cb40373-1f72-45dc-aa64-c1034c30bb20"
      },
      "execution_count": 5,
      "outputs": [
        {
          "output_type": "stream",
          "name": "stdout",
          "text": [
            "item feature shape:  (300, 33)\n",
            "user feature shape:  (290, 14)\n",
            "train shape:  (290, 300)\n",
            "test shape:  (290, 300)\n"
          ]
        }
      ]
    },
    {
      "cell_type": "markdown",
      "source": [
        "## Auto encode item features"
      ],
      "metadata": {
        "id": "8NFuh69GzvXK"
      }
    },
    {
      "cell_type": "code",
      "source": [
        "item_gender = item_features[:,:2]\n",
        "item_type = item_features[:,2:18]\n",
        "item_color = item_features[:,18:31]\n",
        "item_promot = item_features[:,31:]\n",
        "print(\"item_gender shape: \", item_gender.shape)\n",
        "print(\"item_type shape: \", item_type.shape)\n",
        "print(\"item_color shape: \", item_color.shape)\n",
        "print(\"item_promot shape: \", item_promot.shape)"
      ],
      "metadata": {
        "id": "bEK1n3APf-L-",
        "outputId": "569272b2-9c01-4bfb-c0df-98e06c99c169",
        "colab": {
          "base_uri": "https://localhost:8080/"
        }
      },
      "execution_count": 6,
      "outputs": [
        {
          "output_type": "stream",
          "name": "stdout",
          "text": [
            "item_gender shape:  (300, 2)\n",
            "item_type shape:  (300, 16)\n",
            "item_color shape:  (300, 13)\n",
            "item_promot shape:  (300, 2)\n"
          ]
        }
      ]
    },
    {
      "cell_type": "code",
      "source": [
        "from tensorflow.keras.models import Model, Sequential\n",
        "from tensorflow.keras.layers import Dense,Flatten,Reshape"
      ],
      "metadata": {
        "id": "c2QsegfdvH_w"
      },
      "execution_count": 7,
      "outputs": []
    },
    {
      "cell_type": "markdown",
      "source": [
        "Auto encode item type"
      ],
      "metadata": {
        "id": "dKAN2gQXymQo"
      }
    },
    {
      "cell_type": "code",
      "source": [
        "# Auto encode item type\n",
        "X_train = item_type\n",
        "encode_dim = 10\n",
        " \n",
        "## Encoder\n",
        "encoder = Sequential()\n",
        "# encoder.add(Flatten(input_shape=[21,]))\n",
        "encoder.add(Dense(X_train.shape[1]))\n",
        "encoder.add(Dense(400,activation=\"relu\"))\n",
        "encoder.add(Dense(200,activation=\"relu\"))\n",
        "encoder.add(Dense(100,activation=\"relu\"))\n",
        "encoder.add(Dense(50,activation=\"relu\"))\n",
        "encoder.add(Dense(encode_dim,activation=\"relu\"))\n",
        " \n",
        "## Decoder\n",
        "decoder = Sequential()\n",
        "decoder.add(Dense(50,input_shape=[encode_dim],activation='relu'))\n",
        "decoder.add(Dense(100,activation='relu'))\n",
        "decoder.add(Dense(200,activation='relu'))\n",
        "decoder.add(Dense(400,activation='relu'))\n",
        "decoder.add(Dense(X_train.shape[1], activation=\"relu\"))\n",
        "# decoder.add(Reshape([943, 21]))\n",
        " \n",
        "## Autoencoder\n",
        "autoencoder = Sequential([encoder,decoder])\n",
        "autoencoder.compile(loss=\"mse\")\n",
        "autoencoder.fit(X_train,X_train,epochs=50)\n",
        " \n",
        "encoded_item_type = encoder.predict(X_train)"
      ],
      "metadata": {
        "id": "55VlF1i7umEV",
        "outputId": "4636c12a-af3c-48bc-c19c-c71149f6da98",
        "colab": {
          "base_uri": "https://localhost:8080/"
        }
      },
      "execution_count": 8,
      "outputs": [
        {
          "output_type": "stream",
          "name": "stdout",
          "text": [
            "Epoch 1/50\n",
            "10/10 [==============================] - 1s 5ms/step - loss: 0.0558\n",
            "Epoch 2/50\n",
            "10/10 [==============================] - 0s 5ms/step - loss: 0.0385\n",
            "Epoch 3/50\n",
            "10/10 [==============================] - 0s 4ms/step - loss: 0.0255\n",
            "Epoch 4/50\n",
            "10/10 [==============================] - 0s 4ms/step - loss: 0.0181\n",
            "Epoch 5/50\n",
            "10/10 [==============================] - 0s 4ms/step - loss: 0.0165\n",
            "Epoch 6/50\n",
            "10/10 [==============================] - 0s 5ms/step - loss: 0.0160\n",
            "Epoch 7/50\n",
            "10/10 [==============================] - 0s 5ms/step - loss: 0.0152\n",
            "Epoch 8/50\n",
            "10/10 [==============================] - 0s 4ms/step - loss: 0.0141\n",
            "Epoch 9/50\n",
            "10/10 [==============================] - 0s 4ms/step - loss: 0.0150\n",
            "Epoch 10/50\n",
            "10/10 [==============================] - 0s 5ms/step - loss: 0.0133\n",
            "Epoch 11/50\n",
            "10/10 [==============================] - 0s 4ms/step - loss: 0.0146\n",
            "Epoch 12/50\n",
            "10/10 [==============================] - 0s 4ms/step - loss: 0.0137\n",
            "Epoch 13/50\n",
            "10/10 [==============================] - 0s 4ms/step - loss: 0.0142\n",
            "Epoch 14/50\n",
            "10/10 [==============================] - 0s 4ms/step - loss: 0.0133\n",
            "Epoch 15/50\n",
            "10/10 [==============================] - 0s 4ms/step - loss: 0.0142\n",
            "Epoch 16/50\n",
            "10/10 [==============================] - 0s 4ms/step - loss: 0.0134\n",
            "Epoch 17/50\n",
            "10/10 [==============================] - 0s 4ms/step - loss: 0.0137\n",
            "Epoch 18/50\n",
            "10/10 [==============================] - 0s 5ms/step - loss: 0.0141\n",
            "Epoch 19/50\n",
            "10/10 [==============================] - 0s 4ms/step - loss: 0.0138\n",
            "Epoch 20/50\n",
            "10/10 [==============================] - 0s 4ms/step - loss: 0.0131\n",
            "Epoch 21/50\n",
            "10/10 [==============================] - 0s 4ms/step - loss: 0.0141\n",
            "Epoch 22/50\n",
            "10/10 [==============================] - 0s 4ms/step - loss: 0.0138\n",
            "Epoch 23/50\n",
            "10/10 [==============================] - 0s 4ms/step - loss: 0.0133\n",
            "Epoch 24/50\n",
            "10/10 [==============================] - 0s 4ms/step - loss: 0.0138\n",
            "Epoch 25/50\n",
            "10/10 [==============================] - 0s 5ms/step - loss: 0.0133\n",
            "Epoch 26/50\n",
            "10/10 [==============================] - 0s 4ms/step - loss: 0.0135\n",
            "Epoch 27/50\n",
            "10/10 [==============================] - 0s 4ms/step - loss: 0.0138\n",
            "Epoch 28/50\n",
            "10/10 [==============================] - 0s 4ms/step - loss: 0.0133\n",
            "Epoch 29/50\n",
            "10/10 [==============================] - 0s 4ms/step - loss: 0.0134\n",
            "Epoch 30/50\n",
            "10/10 [==============================] - 0s 4ms/step - loss: 0.0137\n",
            "Epoch 31/50\n",
            "10/10 [==============================] - 0s 4ms/step - loss: 0.0133\n",
            "Epoch 32/50\n",
            "10/10 [==============================] - 0s 4ms/step - loss: 0.0133\n",
            "Epoch 33/50\n",
            "10/10 [==============================] - 0s 4ms/step - loss: 0.0137\n",
            "Epoch 34/50\n",
            "10/10 [==============================] - 0s 4ms/step - loss: 0.0130\n",
            "Epoch 35/50\n",
            "10/10 [==============================] - 0s 4ms/step - loss: 0.0135\n",
            "Epoch 36/50\n",
            "10/10 [==============================] - 0s 4ms/step - loss: 0.0132\n",
            "Epoch 37/50\n",
            "10/10 [==============================] - 0s 5ms/step - loss: 0.0131\n",
            "Epoch 38/50\n",
            "10/10 [==============================] - 0s 4ms/step - loss: 0.0135\n",
            "Epoch 39/50\n",
            "10/10 [==============================] - 0s 6ms/step - loss: 0.0130\n",
            "Epoch 40/50\n",
            "10/10 [==============================] - 0s 4ms/step - loss: 0.0135\n",
            "Epoch 41/50\n",
            "10/10 [==============================] - 0s 4ms/step - loss: 0.0132\n",
            "Epoch 42/50\n",
            "10/10 [==============================] - 0s 5ms/step - loss: 0.0131\n",
            "Epoch 43/50\n",
            "10/10 [==============================] - 0s 4ms/step - loss: 0.0129\n",
            "Epoch 44/50\n",
            "10/10 [==============================] - 0s 4ms/step - loss: 0.0141\n",
            "Epoch 45/50\n",
            "10/10 [==============================] - 0s 5ms/step - loss: 0.0128\n",
            "Epoch 46/50\n",
            "10/10 [==============================] - 0s 4ms/step - loss: 0.0132\n",
            "Epoch 47/50\n",
            "10/10 [==============================] - 0s 4ms/step - loss: 0.0129\n",
            "Epoch 48/50\n",
            "10/10 [==============================] - 0s 4ms/step - loss: 0.0133\n",
            "Epoch 49/50\n",
            "10/10 [==============================] - 0s 5ms/step - loss: 0.0130\n",
            "Epoch 50/50\n",
            "10/10 [==============================] - 0s 4ms/step - loss: 0.0134\n"
          ]
        }
      ]
    },
    {
      "cell_type": "markdown",
      "source": [
        "16 -> 10"
      ],
      "metadata": {
        "id": "4HtclQX_yqfT"
      }
    },
    {
      "cell_type": "code",
      "source": [
        "encoded_item_type.shape"
      ],
      "metadata": {
        "colab": {
          "base_uri": "https://localhost:8080/"
        },
        "id": "XcKUraChvfJ2",
        "outputId": "cc2ae277-89f7-4e9f-c355-cb6c7753b6e2"
      },
      "execution_count": 9,
      "outputs": [
        {
          "output_type": "execute_result",
          "data": {
            "text/plain": [
              "(300, 10)"
            ]
          },
          "metadata": {},
          "execution_count": 9
        }
      ]
    },
    {
      "cell_type": "markdown",
      "source": [
        "Auto encode item_color"
      ],
      "metadata": {
        "id": "qQ3D4dIGyuQU"
      }
    },
    {
      "cell_type": "code",
      "source": [
        "# Auto encode item type\n",
        "X_train = item_color\n",
        "encode_dim = 7\n",
        " \n",
        "## Encoder\n",
        "encoder = Sequential()\n",
        "# encoder.add(Flatten(input_shape=[21,]))\n",
        "encoder.add(Dense(X_train.shape[1]))\n",
        "encoder.add(Dense(400,activation=\"relu\"))\n",
        "encoder.add(Dense(200,activation=\"relu\"))\n",
        "encoder.add(Dense(100,activation=\"relu\"))\n",
        "encoder.add(Dense(50,activation=\"relu\"))\n",
        "encoder.add(Dense(encode_dim,activation=\"relu\"))\n",
        " \n",
        "## Decoder\n",
        "decoder = Sequential()\n",
        "decoder.add(Dense(50,input_shape=[encode_dim],activation='relu'))\n",
        "decoder.add(Dense(100,activation='relu'))\n",
        "decoder.add(Dense(200,activation='relu'))\n",
        "decoder.add(Dense(400,activation='relu'))\n",
        "decoder.add(Dense(X_train.shape[1], activation=\"relu\"))\n",
        "# decoder.add(Reshape([943, 21]))\n",
        " \n",
        "## Autoencoder\n",
        "autoencoder = Sequential([encoder,decoder])\n",
        "autoencoder.compile(loss=\"mse\")\n",
        "autoencoder.fit(X_train,X_train,epochs=50)\n",
        " \n",
        "encoded_item_color = encoder.predict(X_train)"
      ],
      "metadata": {
        "id": "LG6G1CH8vkH6",
        "outputId": "704557e1-095e-4489-d5e2-c4100bc9e394",
        "colab": {
          "base_uri": "https://localhost:8080/"
        }
      },
      "execution_count": 10,
      "outputs": [
        {
          "output_type": "stream",
          "name": "stdout",
          "text": [
            "Epoch 1/50\n",
            "10/10 [==============================] - 1s 5ms/step - loss: 0.0675\n",
            "Epoch 2/50\n",
            "10/10 [==============================] - 0s 4ms/step - loss: 0.0477\n",
            "Epoch 3/50\n",
            "10/10 [==============================] - 0s 4ms/step - loss: 0.0340\n",
            "Epoch 4/50\n",
            "10/10 [==============================] - 0s 4ms/step - loss: 0.0221\n",
            "Epoch 5/50\n",
            "10/10 [==============================] - 0s 4ms/step - loss: 0.0187\n",
            "Epoch 6/50\n",
            "10/10 [==============================] - 0s 4ms/step - loss: 0.0184\n",
            "Epoch 7/50\n",
            "10/10 [==============================] - 0s 4ms/step - loss: 0.0177\n",
            "Epoch 8/50\n",
            "10/10 [==============================] - 0s 4ms/step - loss: 0.0174\n",
            "Epoch 9/50\n",
            "10/10 [==============================] - 0s 4ms/step - loss: 0.0175\n",
            "Epoch 10/50\n",
            "10/10 [==============================] - 0s 4ms/step - loss: 0.0166\n",
            "Epoch 11/50\n",
            "10/10 [==============================] - 0s 4ms/step - loss: 0.0185\n",
            "Epoch 12/50\n",
            "10/10 [==============================] - 0s 4ms/step - loss: 0.0166\n",
            "Epoch 13/50\n",
            "10/10 [==============================] - 0s 4ms/step - loss: 0.0177\n",
            "Epoch 14/50\n",
            "10/10 [==============================] - 0s 5ms/step - loss: 0.0164\n",
            "Epoch 15/50\n",
            "10/10 [==============================] - 0s 4ms/step - loss: 0.0180\n",
            "Epoch 16/50\n",
            "10/10 [==============================] - 0s 4ms/step - loss: 0.0164\n",
            "Epoch 17/50\n",
            "10/10 [==============================] - 0s 7ms/step - loss: 0.0176\n",
            "Epoch 18/50\n",
            "10/10 [==============================] - 0s 4ms/step - loss: 0.0165\n",
            "Epoch 19/50\n",
            "10/10 [==============================] - 0s 4ms/step - loss: 0.0171\n",
            "Epoch 20/50\n",
            "10/10 [==============================] - 0s 4ms/step - loss: 0.0167\n",
            "Epoch 21/50\n",
            "10/10 [==============================] - 0s 5ms/step - loss: 0.0168\n",
            "Epoch 22/50\n",
            "10/10 [==============================] - 0s 5ms/step - loss: 0.0167\n",
            "Epoch 23/50\n",
            "10/10 [==============================] - 0s 4ms/step - loss: 0.0173\n",
            "Epoch 24/50\n",
            "10/10 [==============================] - 0s 4ms/step - loss: 0.0166\n",
            "Epoch 25/50\n",
            "10/10 [==============================] - 0s 4ms/step - loss: 0.0167\n",
            "Epoch 26/50\n",
            "10/10 [==============================] - 0s 5ms/step - loss: 0.0167\n",
            "Epoch 27/50\n",
            "10/10 [==============================] - 0s 4ms/step - loss: 0.0169\n",
            "Epoch 28/50\n",
            "10/10 [==============================] - 0s 4ms/step - loss: 0.0162\n",
            "Epoch 29/50\n",
            "10/10 [==============================] - 0s 4ms/step - loss: 0.0173\n",
            "Epoch 30/50\n",
            "10/10 [==============================] - 0s 4ms/step - loss: 0.0168\n",
            "Epoch 31/50\n",
            "10/10 [==============================] - 0s 4ms/step - loss: 0.0162\n",
            "Epoch 32/50\n",
            "10/10 [==============================] - 0s 4ms/step - loss: 0.0168\n",
            "Epoch 33/50\n",
            "10/10 [==============================] - 0s 4ms/step - loss: 0.0163\n",
            "Epoch 34/50\n",
            "10/10 [==============================] - 0s 4ms/step - loss: 0.0168\n",
            "Epoch 35/50\n",
            "10/10 [==============================] - 0s 4ms/step - loss: 0.0164\n",
            "Epoch 36/50\n",
            "10/10 [==============================] - 0s 4ms/step - loss: 0.0164\n",
            "Epoch 37/50\n",
            "10/10 [==============================] - 0s 4ms/step - loss: 0.0165\n",
            "Epoch 38/50\n",
            "10/10 [==============================] - 0s 5ms/step - loss: 0.0162\n",
            "Epoch 39/50\n",
            "10/10 [==============================] - 0s 4ms/step - loss: 0.0167\n",
            "Epoch 40/50\n",
            "10/10 [==============================] - 0s 4ms/step - loss: 0.0164\n",
            "Epoch 41/50\n",
            "10/10 [==============================] - 0s 4ms/step - loss: 0.0164\n",
            "Epoch 42/50\n",
            "10/10 [==============================] - 0s 5ms/step - loss: 0.0164\n",
            "Epoch 43/50\n",
            "10/10 [==============================] - 0s 5ms/step - loss: 0.0163\n",
            "Epoch 44/50\n",
            "10/10 [==============================] - 0s 4ms/step - loss: 0.0163\n",
            "Epoch 45/50\n",
            "10/10 [==============================] - 0s 4ms/step - loss: 0.0168\n",
            "Epoch 46/50\n",
            "10/10 [==============================] - 0s 5ms/step - loss: 0.0163\n",
            "Epoch 47/50\n",
            "10/10 [==============================] - 0s 4ms/step - loss: 0.0160\n",
            "Epoch 48/50\n",
            "10/10 [==============================] - 0s 4ms/step - loss: 0.0164\n",
            "Epoch 49/50\n",
            "10/10 [==============================] - 0s 5ms/step - loss: 0.0161\n",
            "Epoch 50/50\n",
            "10/10 [==============================] - 0s 4ms/step - loss: 0.0166\n"
          ]
        }
      ]
    },
    {
      "cell_type": "markdown",
      "source": [
        "14 -> 7"
      ],
      "metadata": {
        "id": "ibHTswWOyzJD"
      }
    },
    {
      "cell_type": "code",
      "source": [
        "encoded_item_color.shape"
      ],
      "metadata": {
        "colab": {
          "base_uri": "https://localhost:8080/"
        },
        "id": "S1-BF3W8v-92",
        "outputId": "43b6f42a-99e9-4e14-d826-f3b46442fb30"
      },
      "execution_count": 11,
      "outputs": [
        {
          "output_type": "execute_result",
          "data": {
            "text/plain": [
              "(300, 7)"
            ]
          },
          "metadata": {},
          "execution_count": 11
        }
      ]
    },
    {
      "cell_type": "markdown",
      "source": [
        "## Join item features"
      ],
      "metadata": {
        "id": "F_jyGTKaxMiN"
      }
    },
    {
      "cell_type": "code",
      "source": [
        "item_features_encoded = np.concatenate((item_gender, encoded_item_type),axis = 1)\n",
        "item_features_encoded = np.concatenate((item_features_encoded, encoded_item_color),axis = 1)\n",
        "item_features_encoded = np.concatenate((item_features_encoded, item_promot),axis = 1)\n",
        "item_features_encoded"
      ],
      "metadata": {
        "colab": {
          "base_uri": "https://localhost:8080/"
        },
        "id": "sx32oQSixMEf",
        "outputId": "494f625a-427a-4f1e-c877-9df39fea7127"
      },
      "execution_count": 12,
      "outputs": [
        {
          "output_type": "execute_result",
          "data": {
            "text/plain": [
              "array([[1.        , 0.        , 0.        , ..., 0.08179402, 1.        ,\n",
              "        0.        ],\n",
              "       [1.        , 0.        , 0.        , ..., 0.60989726, 0.        ,\n",
              "        1.        ],\n",
              "       [1.        , 0.        , 0.94742745, ..., 0.08513641, 0.        ,\n",
              "        1.        ],\n",
              "       ...,\n",
              "       [0.        , 1.        , 0.81452298, ..., 0.        , 0.        ,\n",
              "        1.        ],\n",
              "       [0.        , 1.        , 0.34518668, ..., 0.        , 0.        ,\n",
              "        1.        ],\n",
              "       [0.        , 1.        , 0.81452298, ..., 0.        , 0.        ,\n",
              "        1.        ]])"
            ]
          },
          "metadata": {},
          "execution_count": 12
        }
      ]
    },
    {
      "cell_type": "markdown",
      "source": [
        "33 -> 21"
      ],
      "metadata": {
        "id": "8uTkVtLfzlva"
      }
    },
    {
      "cell_type": "code",
      "source": [
        "item_features_encoded.shape"
      ],
      "metadata": {
        "colab": {
          "base_uri": "https://localhost:8080/"
        },
        "id": "3d0y4WdJx-Y3",
        "outputId": "67131dc1-60eb-4c04-9b5d-8224bb8838cf"
      },
      "execution_count": 13,
      "outputs": [
        {
          "output_type": "execute_result",
          "data": {
            "text/plain": [
              "(300, 21)"
            ]
          },
          "metadata": {},
          "execution_count": 13
        }
      ]
    },
    {
      "cell_type": "markdown",
      "source": [
        "## Joint user-item pair features\n",
        "\n",
        "Concatenate user and item features into a matrix for all possible user item pairs"
      ],
      "metadata": {
        "id": "9zgW0LIezql5"
      }
    },
    {
      "cell_type": "code",
      "source": [
        "O_mask = np.int64(train > 0)\n",
        "O_mask"
      ],
      "metadata": {
        "colab": {
          "base_uri": "https://localhost:8080/"
        },
        "id": "9mfxBFhaz3GA",
        "outputId": "c617f35f-2207-4d6a-8216-9c96ddc7a7b7"
      },
      "execution_count": 14,
      "outputs": [
        {
          "output_type": "execute_result",
          "data": {
            "text/plain": [
              "array([[0, 0, 0, ..., 0, 1, 0],\n",
              "       [0, 0, 0, ..., 0, 0, 0],\n",
              "       [0, 0, 0, ..., 0, 0, 0],\n",
              "       ...,\n",
              "       [1, 0, 0, ..., 0, 0, 0],\n",
              "       [1, 0, 0, ..., 0, 0, 0],\n",
              "       [0, 0, 0, ..., 0, 0, 0]])"
            ]
          },
          "metadata": {},
          "execution_count": 14
        }
      ]
    },
    {
      "cell_type": "markdown",
      "source": [
        "creat array that contains features of all possible user-item pairs\n",
        "\n",
        "47 -> 35"
      ],
      "metadata": {
        "id": "4l5Ilfsm2KpS"
      }
    },
    {
      "cell_type": "code",
      "source": [
        "features_matrix = []\n",
        "for u in range(O_mask.shape[0]):\n",
        "  for i in range(O_mask.shape[1]):\n",
        "    user_f = user_features[u]\n",
        "    item_f = item_features_encoded[i]\n",
        "    observed = np.concatenate((user_f, item_f))\n",
        "    features_matrix.append(observed)\n",
        "features_matrix = np.array(features_matrix)\n",
        "features_matrix.shape"
      ],
      "metadata": {
        "colab": {
          "base_uri": "https://localhost:8080/"
        },
        "id": "lP5SCCar1M16",
        "outputId": "85aa2b93-7f9c-482c-bda9-6e7d8e3661e1"
      },
      "execution_count": 15,
      "outputs": [
        {
          "output_type": "execute_result",
          "data": {
            "text/plain": [
              "(87000, 35)"
            ]
          },
          "metadata": {},
          "execution_count": 15
        }
      ]
    },
    {
      "cell_type": "code",
      "source": [
        "np.savetxt(\"item_features_encoded.ascii\", item_features_encoded, delimiter=\" \")"
      ],
      "metadata": {
        "id": "Af8nCsDZIYc4"
      },
      "execution_count": 27,
      "outputs": []
    },
    {
      "cell_type": "markdown",
      "source": [
        "## Log Reg to predict propensity based on features"
      ],
      "metadata": {
        "id": "GiyN-e292hSD"
      }
    },
    {
      "cell_type": "code",
      "source": [
        "from sklearn.linear_model import LogisticRegression"
      ],
      "metadata": {
        "id": "Etm5sVHn2d2x"
      },
      "execution_count": 16,
      "outputs": []
    },
    {
      "cell_type": "code",
      "source": [
        "x = features_matrix\n",
        "y = np.ndarray.flatten(O_mask)"
      ],
      "metadata": {
        "id": "xu4l4EPE2j4R"
      },
      "execution_count": 17,
      "outputs": []
    },
    {
      "cell_type": "code",
      "source": [
        "x.shape"
      ],
      "metadata": {
        "colab": {
          "base_uri": "https://localhost:8080/"
        },
        "id": "3NXUOwqS3KLj",
        "outputId": "3448b058-1cd7-466c-e251-699452b3f3c4"
      },
      "execution_count": 18,
      "outputs": [
        {
          "output_type": "execute_result",
          "data": {
            "text/plain": [
              "(87000, 35)"
            ]
          },
          "metadata": {},
          "execution_count": 18
        }
      ]
    },
    {
      "cell_type": "code",
      "source": [
        "model = LogisticRegression(max_iter=1000).fit(x,y)\n",
        "model.classes_, model.intercept_, model.coef_"
      ],
      "metadata": {
        "colab": {
          "base_uri": "https://localhost:8080/"
        },
        "id": "-xqNbZVP2nNd",
        "outputId": "f23bf112-a083-4976-a07a-fc4ac1a7b11f"
      },
      "execution_count": 19,
      "outputs": [
        {
          "output_type": "execute_result",
          "data": {
            "text/plain": [
              "(array([0, 1]),\n",
              " array([-1.8465561]),\n",
              " array([[-0.04114871, -0.0411864 , -0.01362282, -0.01360624, -0.01367843,\n",
              "         -0.01344072, -0.01348495, -0.01450196, -0.02744427, -0.02744846,\n",
              "         -0.02744238, -0.02742899, -0.02753746, -0.02736866,  0.06899516,\n",
              "         -0.15133027, -0.10253641,  0.32121909,  0.16257757,  0.        ,\n",
              "          0.02297736, -0.14141538,  0.09101257,  0.11097323, -0.23474926,\n",
              "         -0.12614708,  0.5278056 ,  0.08573019,  0.06853603,  0.01738186,\n",
              "         -0.13175852,  2.86689279,  0.05013738,  0.60198564, -0.68432075]]))"
            ]
          },
          "metadata": {},
          "execution_count": 19
        }
      ]
    },
    {
      "cell_type": "code",
      "source": [
        "predicted_propensity = model.predict_proba(x)\n",
        "predicted_propensity"
      ],
      "metadata": {
        "colab": {
          "base_uri": "https://localhost:8080/"
        },
        "id": "e17SV5vU2nQi",
        "outputId": "549333bd-b60b-4cad-a790-12083af1c242"
      },
      "execution_count": 20,
      "outputs": [
        {
          "output_type": "execute_result",
          "data": {
            "text/plain": [
              "array([[0.72524291, 0.27475709],\n",
              "       [0.92748207, 0.07251793],\n",
              "       [0.92952659, 0.07047341],\n",
              "       ...,\n",
              "       [0.92118349, 0.07881651],\n",
              "       [0.91818598, 0.08181402],\n",
              "       [0.93256819, 0.06743181]])"
            ]
          },
          "metadata": {},
          "execution_count": 20
        }
      ]
    },
    {
      "cell_type": "code",
      "source": [
        "predicted_propensity = predicted_propensity[:,1].reshape(290, 300)\n",
        "predicted_propensity"
      ],
      "metadata": {
        "colab": {
          "base_uri": "https://localhost:8080/"
        },
        "id": "FXM4EwDF2nWX",
        "outputId": "387bba03-0962-4e52-fed5-c3fbfe9eeed2"
      },
      "execution_count": 21,
      "outputs": [
        {
          "output_type": "execute_result",
          "data": {
            "text/plain": [
              "array([[0.27475709, 0.07251793, 0.07047341, ..., 0.07882263, 0.08182036,\n",
              "        0.06743711],\n",
              "       [0.27474716, 0.07251458, 0.07047014, ..., 0.07881902, 0.08181661,\n",
              "        0.06743398],\n",
              "       [0.27474386, 0.07251347, 0.07046906, ..., 0.07881781, 0.08181537,\n",
              "        0.06743294],\n",
              "       ...,\n",
              "       [0.27475258, 0.07251641, 0.07047192, ..., 0.07882099, 0.08181865,\n",
              "        0.06743569],\n",
              "       [0.27474028, 0.07251226, 0.07046788, ..., 0.07881651, 0.08181402,\n",
              "        0.06743181],\n",
              "       [0.27474028, 0.07251226, 0.07046788, ..., 0.07881651, 0.08181402,\n",
              "        0.06743181]])"
            ]
          },
          "metadata": {},
          "execution_count": 21
        }
      ]
    },
    {
      "cell_type": "code",
      "source": [
        "model.score(x, y)"
      ],
      "metadata": {
        "colab": {
          "base_uri": "https://localhost:8080/"
        },
        "id": "cE5BaKx537T0",
        "outputId": "17b89ddd-1a29-4fff-966c-3ee746b2c74e"
      },
      "execution_count": 22,
      "outputs": [
        {
          "output_type": "execute_result",
          "data": {
            "text/plain": [
              "0.92"
            ]
          },
          "metadata": {},
          "execution_count": 22
        }
      ]
    },
    {
      "cell_type": "code",
      "source": [
        "np.savetxt(\"our_propensities.ascii\", predicted_propensity, delimiter=\" \")"
      ],
      "metadata": {
        "id": "VQhxkD5d39Bg"
      },
      "execution_count": 23,
      "outputs": []
    },
    {
      "cell_type": "code",
      "source": [
        "np.genfromtxt(\"our_propensities.ascii\", dtype=None).shape"
      ],
      "metadata": {
        "colab": {
          "base_uri": "https://localhost:8080/"
        },
        "id": "zTp6zfhz6vPS",
        "outputId": "f3e0e736-3371-46c0-e6b2-fce19e098867"
      },
      "execution_count": 24,
      "outputs": [
        {
          "output_type": "execute_result",
          "data": {
            "text/plain": [
              "(290, 300)"
            ]
          },
          "metadata": {},
          "execution_count": 24
        }
      ]
    }
  ]
}