{
  "nbformat": 4,
  "nbformat_minor": 0,
  "metadata": {
    "colab": {
      "name": "Propensities_Coat.ipynb",
      "provenance": [],
      "authorship_tag": "ABX9TyOoUj4C3jTZSs2xl8ep6IJ6",
      "include_colab_link": true
    },
    "kernelspec": {
      "name": "python3",
      "display_name": "Python 3"
    },
    "language_info": {
      "name": "python"
    }
  },
  "cells": [
    {
      "cell_type": "markdown",
      "metadata": {
        "id": "view-in-github",
        "colab_type": "text"
      },
      "source": [
        "<a href=\"https://colab.research.google.com/github/Recommendation-System-Project/Recommendation-system/blob/main/Propensities_Coat.ipynb\" target=\"_parent\"><img src=\"https://colab.research.google.com/assets/colab-badge.svg\" alt=\"Open In Colab\"/></a>"
      ]
    },
    {
      "cell_type": "code",
      "source": [
        "import pandas as pd\n",
        "import numpy as np"
      ],
      "metadata": {
        "id": "WRZrwDi3epj1"
      },
      "execution_count": 2,
      "outputs": []
    },
    {
      "cell_type": "code",
      "execution_count": 7,
      "metadata": {
        "id": "AlhwidtJZsGZ"
      },
      "outputs": [],
      "source": [
        "item_features = np.genfromtxt(\"data/item_features.ascii\", dtype=None)\n",
        "user_features = np.genfromtxt(\"data/user_features.ascii\", dtype=None)\n",
        "train = np.genfromtxt(\"data/train.ascii\", dtype=None)\n",
        "test = np.genfromtxt(\"data/test.ascii\", dtype=None)"
      ]
    },
    {
      "cell_type": "code",
      "source": [
        "print(\"item feature shape: \", item_features.shape)\n",
        "print(\"user feature shape: \", user_features.shape)\n",
        "print(\"train shape: \", train.shape)\n",
        "print(\"test shape: \", test.shape)"
      ],
      "metadata": {
        "colab": {
          "base_uri": "https://localhost:8080/"
        },
        "id": "9RLSyL8-fdS2",
        "outputId": "7f4d2cc9-4814-4e60-acd2-79bf25b6e380"
      },
      "execution_count": 9,
      "outputs": [
        {
          "output_type": "stream",
          "name": "stdout",
          "text": [
            "item feature shape:  (300, 33)\n",
            "user feature shape:  (290, 14)\n",
            "train shape:  (290, 300)\n",
            "test shape:  (290, 300)\n"
          ]
        }
      ]
    },
    {
      "cell_type": "markdown",
      "source": [
        "## Auto encode item features"
      ],
      "metadata": {
        "id": "8NFuh69GzvXK"
      }
    },
    {
      "cell_type": "code",
      "source": [
        "item_gender = item_features[:,:2]\n",
        "item_type = item_features[:,2:18]\n",
        "item_color = item_features[:,18:31]\n",
        "item_promot = item_features[:,31:]\n",
        "print(\"item_gender shape: \", item_gender.shape)\n",
        "print(\"item_type shape: \", item_type.shape)\n",
        "print(\"item_color shape: \", item_color.shape)\n",
        "print(\"item_promot shape: \", item_promot.shape)"
      ],
      "metadata": {
        "id": "bEK1n3APf-L-"
      },
      "execution_count": 20,
      "outputs": []
    },
    {
      "cell_type": "code",
      "source": [
        "from tensorflow.keras.models import Model, Sequential\n",
        "from tensorflow.keras.layers import Dense,Flatten,Reshape"
      ],
      "metadata": {
        "id": "c2QsegfdvH_w"
      },
      "execution_count": 33,
      "outputs": []
    },
    {
      "cell_type": "markdown",
      "source": [
        "Auto encode item type"
      ],
      "metadata": {
        "id": "dKAN2gQXymQo"
      }
    },
    {
      "cell_type": "code",
      "source": [
        "# Auto encode item type\n",
        "X_train = item_type\n",
        "encode_dim = 10\n",
        " \n",
        "## Encoder\n",
        "encoder = Sequential()\n",
        "# encoder.add(Flatten(input_shape=[21,]))\n",
        "encoder.add(Dense(X_train.shape[1]))\n",
        "encoder.add(Dense(400,activation=\"relu\"))\n",
        "encoder.add(Dense(200,activation=\"relu\"))\n",
        "encoder.add(Dense(100,activation=\"relu\"))\n",
        "encoder.add(Dense(50,activation=\"relu\"))\n",
        "encoder.add(Dense(encode_dim,activation=\"relu\"))\n",
        " \n",
        "## Decoder\n",
        "decoder = Sequential()\n",
        "decoder.add(Dense(50,input_shape=[encode_dim],activation='relu'))\n",
        "decoder.add(Dense(100,activation='relu'))\n",
        "decoder.add(Dense(200,activation='relu'))\n",
        "decoder.add(Dense(400,activation='relu'))\n",
        "decoder.add(Dense(X_train.shape[1], activation=\"relu\"))\n",
        "# decoder.add(Reshape([943, 21]))\n",
        " \n",
        "## Autoencoder\n",
        "autoencoder = Sequential([encoder,decoder])\n",
        "autoencoder.compile(loss=\"mse\")\n",
        "autoencoder.fit(X_train,X_train,epochs=50)\n",
        " \n",
        "encoded_item_type = encoder.predict(X_train)"
      ],
      "metadata": {
        "id": "55VlF1i7umEV"
      },
      "execution_count": null,
      "outputs": []
    },
    {
      "cell_type": "markdown",
      "source": [
        "16 -> 10"
      ],
      "metadata": {
        "id": "4HtclQX_yqfT"
      }
    },
    {
      "cell_type": "code",
      "source": [
        "encoded_item_type.shape"
      ],
      "metadata": {
        "colab": {
          "base_uri": "https://localhost:8080/"
        },
        "id": "XcKUraChvfJ2",
        "outputId": "7bb29652-a777-47a6-b9d6-4a4eb78bcc05"
      },
      "execution_count": 35,
      "outputs": [
        {
          "output_type": "execute_result",
          "data": {
            "text/plain": [
              "(300, 10)"
            ]
          },
          "metadata": {},
          "execution_count": 35
        }
      ]
    },
    {
      "cell_type": "markdown",
      "source": [
        "Auto encode item_color"
      ],
      "metadata": {
        "id": "qQ3D4dIGyuQU"
      }
    },
    {
      "cell_type": "code",
      "source": [
        "# Auto encode item type\n",
        "X_train = item_color\n",
        "encode_dim = 7\n",
        " \n",
        "## Encoder\n",
        "encoder = Sequential()\n",
        "# encoder.add(Flatten(input_shape=[21,]))\n",
        "encoder.add(Dense(X_train.shape[1]))\n",
        "encoder.add(Dense(400,activation=\"relu\"))\n",
        "encoder.add(Dense(200,activation=\"relu\"))\n",
        "encoder.add(Dense(100,activation=\"relu\"))\n",
        "encoder.add(Dense(50,activation=\"relu\"))\n",
        "encoder.add(Dense(encode_dim,activation=\"relu\"))\n",
        " \n",
        "## Decoder\n",
        "decoder = Sequential()\n",
        "decoder.add(Dense(50,input_shape=[encode_dim],activation='relu'))\n",
        "decoder.add(Dense(100,activation='relu'))\n",
        "decoder.add(Dense(200,activation='relu'))\n",
        "decoder.add(Dense(400,activation='relu'))\n",
        "decoder.add(Dense(X_train.shape[1], activation=\"relu\"))\n",
        "# decoder.add(Reshape([943, 21]))\n",
        " \n",
        "## Autoencoder\n",
        "autoencoder = Sequential([encoder,decoder])\n",
        "autoencoder.compile(loss=\"mse\")\n",
        "autoencoder.fit(X_train,X_train,epochs=50)\n",
        " \n",
        "encoded_item_color = encoder.predict(X_train)"
      ],
      "metadata": {
        "id": "LG6G1CH8vkH6"
      },
      "execution_count": null,
      "outputs": []
    },
    {
      "cell_type": "markdown",
      "source": [
        "14 -> 7"
      ],
      "metadata": {
        "id": "ibHTswWOyzJD"
      }
    },
    {
      "cell_type": "code",
      "source": [
        "encoded_item_color.shape"
      ],
      "metadata": {
        "colab": {
          "base_uri": "https://localhost:8080/"
        },
        "id": "S1-BF3W8v-92",
        "outputId": "3425c6e6-b060-4c8f-a10a-0d7baf779d5e"
      },
      "execution_count": 40,
      "outputs": [
        {
          "output_type": "execute_result",
          "data": {
            "text/plain": [
              "(300, 7)"
            ]
          },
          "metadata": {},
          "execution_count": 40
        }
      ]
    },
    {
      "cell_type": "markdown",
      "source": [
        "## Join item features"
      ],
      "metadata": {
        "id": "F_jyGTKaxMiN"
      }
    },
    {
      "cell_type": "code",
      "source": [
        "item_features_encoded = np.concatenate((item_gender, encoded_item_type),axis = 1)\n",
        "item_features_encoded = np.concatenate((item_features_encoded, encoded_item_color),axis = 1)\n",
        "item_features_encoded = np.concatenate((item_features_encoded, item_promot),axis = 1)\n",
        "item_features_encoded"
      ],
      "metadata": {
        "colab": {
          "base_uri": "https://localhost:8080/"
        },
        "id": "sx32oQSixMEf",
        "outputId": "3470c23b-c868-4866-c4bd-62740e1c4f88"
      },
      "execution_count": 41,
      "outputs": [
        {
          "output_type": "execute_result",
          "data": {
            "text/plain": [
              "array([[1.        , 0.        , 0.        , ..., 0.        , 1.        ,\n",
              "        0.        ],\n",
              "       [1.        , 0.        , 0.        , ..., 0.24560076, 0.        ,\n",
              "        1.        ],\n",
              "       [1.        , 0.        , 0.52863282, ..., 0.        , 0.        ,\n",
              "        1.        ],\n",
              "       ...,\n",
              "       [0.        , 1.        , 1.06302667, ..., 0.22257644, 0.        ,\n",
              "        1.        ],\n",
              "       [0.        , 1.        , 0.        , ..., 0.22257644, 0.        ,\n",
              "        1.        ],\n",
              "       [0.        , 1.        , 1.06302667, ..., 0.        , 0.        ,\n",
              "        1.        ]])"
            ]
          },
          "metadata": {},
          "execution_count": 41
        }
      ]
    },
    {
      "cell_type": "markdown",
      "source": [
        "33 -> 21"
      ],
      "metadata": {
        "id": "8uTkVtLfzlva"
      }
    },
    {
      "cell_type": "code",
      "source": [
        "item_features_encoded.shape"
      ],
      "metadata": {
        "colab": {
          "base_uri": "https://localhost:8080/"
        },
        "id": "3d0y4WdJx-Y3",
        "outputId": "c5e166a9-2dec-44bb-fc00-5aa805c28e73"
      },
      "execution_count": 42,
      "outputs": [
        {
          "output_type": "execute_result",
          "data": {
            "text/plain": [
              "(300, 21)"
            ]
          },
          "metadata": {},
          "execution_count": 42
        }
      ]
    },
    {
      "cell_type": "markdown",
      "source": [
        "## Joint user-item pair features\n",
        "\n",
        "Concatenate user and item features into a matrix for all possible user item pairs"
      ],
      "metadata": {
        "id": "9zgW0LIezql5"
      }
    },
    {
      "cell_type": "code",
      "source": [
        "O_mask = np.int64(train > 0)\n",
        "O_mask"
      ],
      "metadata": {
        "colab": {
          "base_uri": "https://localhost:8080/"
        },
        "id": "9mfxBFhaz3GA",
        "outputId": "f1b84646-1434-4e17-887f-6dbd5c6a9baa"
      },
      "execution_count": 46,
      "outputs": [
        {
          "output_type": "execute_result",
          "data": {
            "text/plain": [
              "array([[0, 0, 0, ..., 0, 1, 0],\n",
              "       [0, 0, 0, ..., 0, 0, 0],\n",
              "       [0, 0, 0, ..., 0, 0, 0],\n",
              "       ...,\n",
              "       [1, 0, 0, ..., 0, 0, 0],\n",
              "       [1, 0, 0, ..., 0, 0, 0],\n",
              "       [0, 0, 0, ..., 0, 0, 0]])"
            ]
          },
          "metadata": {},
          "execution_count": 46
        }
      ]
    },
    {
      "cell_type": "markdown",
      "source": [
        "creat array that contains features of all possible user-item pairs\n",
        "\n",
        "47 -> 35"
      ],
      "metadata": {
        "id": "4l5Ilfsm2KpS"
      }
    },
    {
      "cell_type": "code",
      "source": [
        "features_matrix = []\n",
        "for u in range(O_mask.shape[0]):\n",
        "  for i in range(O_mask.shape[1]):\n",
        "    user_f = user_features[u]\n",
        "    item_f = item_features_encoded[i]\n",
        "    observed = np.concatenate((user_f, item_f))\n",
        "    features_matrix.append(observed)\n",
        "features_matrix = np.array(features_matrix)\n",
        "features_matrix.shape"
      ],
      "metadata": {
        "colab": {
          "base_uri": "https://localhost:8080/"
        },
        "id": "lP5SCCar1M16",
        "outputId": "8ff0dcbd-984e-421f-964a-b41bb5b9a3d9"
      },
      "execution_count": 49,
      "outputs": [
        {
          "output_type": "execute_result",
          "data": {
            "text/plain": [
              "(87000, 35)"
            ]
          },
          "metadata": {},
          "execution_count": 49
        }
      ]
    },
    {
      "cell_type": "markdown",
      "source": [
        "## Log Reg to predict propensity based on features"
      ],
      "metadata": {
        "id": "GiyN-e292hSD"
      }
    },
    {
      "cell_type": "code",
      "source": [
        "from sklearn.linear_model import LogisticRegression"
      ],
      "metadata": {
        "id": "Etm5sVHn2d2x"
      },
      "execution_count": 50,
      "outputs": []
    },
    {
      "cell_type": "code",
      "source": [
        "x = features_matrix\n",
        "y = np.ndarray.flatten(O_mask)"
      ],
      "metadata": {
        "id": "xu4l4EPE2j4R"
      },
      "execution_count": 51,
      "outputs": []
    },
    {
      "cell_type": "code",
      "source": [
        "x.shape"
      ],
      "metadata": {
        "colab": {
          "base_uri": "https://localhost:8080/"
        },
        "id": "3NXUOwqS3KLj",
        "outputId": "0fd2aa6e-221e-4aae-ff28-a16fcea832c1"
      },
      "execution_count": 61,
      "outputs": [
        {
          "output_type": "execute_result",
          "data": {
            "text/plain": [
              "(87000, 35)"
            ]
          },
          "metadata": {},
          "execution_count": 61
        }
      ]
    },
    {
      "cell_type": "code",
      "source": [
        "model = LogisticRegression(max_iter=1000).fit(x,y)\n",
        "model.classes_, model.intercept_, model.coef_"
      ],
      "metadata": {
        "colab": {
          "base_uri": "https://localhost:8080/"
        },
        "id": "-xqNbZVP2nNd",
        "outputId": "a7dad3f0-b627-45b9-9b4f-6d657552a7be"
      },
      "execution_count": 62,
      "outputs": [
        {
          "output_type": "execute_result",
          "data": {
            "text/plain": [
              "(array([0, 1]),\n",
              " array([-1.90280115]),\n",
              " array([[-0.01239614, -0.01234366, -0.00414676, -0.00415704, -0.00413256,\n",
              "         -0.00418339, -0.00435492, -0.00376514, -0.00823546, -0.00826195,\n",
              "         -0.00824239, -0.00825385, -0.00825889, -0.00822707,  0.14296884,\n",
              "         -0.16770865, -0.42456468, -0.12126716, -0.60191854, -1.21092114,\n",
              "         -0.00730095,  0.39214212,  0.52094083,  0.28665924, -0.26085132,\n",
              "         -0.55749375,  0.34669588,  0.04873553,  1.20028726,  0.13905638,\n",
              "          0.31480502,  1.2298091 , -0.12594555,  0.61283535, -0.63757516]]))"
            ]
          },
          "metadata": {},
          "execution_count": 62
        }
      ]
    },
    {
      "cell_type": "code",
      "source": [
        "predicted_propensity = model.predict_proba(x)\n",
        "predicted_propensity"
      ],
      "metadata": {
        "colab": {
          "base_uri": "https://localhost:8080/"
        },
        "id": "e17SV5vU2nQi",
        "outputId": "3c5e6434-bc15-4023-8600-b17f3dc43240"
      },
      "execution_count": 63,
      "outputs": [
        {
          "output_type": "execute_result",
          "data": {
            "text/plain": [
              "array([[0.72827884, 0.27172116],\n",
              "       [0.92598156, 0.07401844],\n",
              "       [0.92374828, 0.07625172],\n",
              "       ...,\n",
              "       [0.92752951, 0.07247049],\n",
              "       [0.90603049, 0.09396951],\n",
              "       [0.93905633, 0.06094367]])"
            ]
          },
          "metadata": {},
          "execution_count": 63
        }
      ]
    },
    {
      "cell_type": "code",
      "source": [
        "predicted_propensity = predicted_propensity[:,1].reshape(290, 300)\n",
        "predicted_propensity"
      ],
      "metadata": {
        "colab": {
          "base_uri": "https://localhost:8080/"
        },
        "id": "FXM4EwDF2nWX",
        "outputId": "b887428d-41d8-4006-a369-de7e6da5988d"
      },
      "execution_count": 64,
      "outputs": [
        {
          "output_type": "execute_result",
          "data": {
            "text/plain": [
              "array([[0.27172116, 0.07401844, 0.07625172, ..., 0.07247618, 0.09397671,\n",
              "        0.06094851],\n",
              "       [0.27170996, 0.07401456, 0.07624773, ..., 0.07247237, 0.09397189,\n",
              "        0.06094527],\n",
              "       [0.27171199, 0.07401526, 0.07624845, ..., 0.07247306, 0.09397277,\n",
              "        0.06094586],\n",
              "       ...,\n",
              "       [0.27170548, 0.07401301, 0.07624613, ..., 0.07247085, 0.09396997,\n",
              "        0.06094398],\n",
              "       [0.27170442, 0.07401264, 0.07624576, ..., 0.07247049, 0.09396951,\n",
              "        0.06094367],\n",
              "       [0.27170442, 0.07401264, 0.07624576, ..., 0.07247049, 0.09396951,\n",
              "        0.06094367]])"
            ]
          },
          "metadata": {},
          "execution_count": 64
        }
      ]
    },
    {
      "cell_type": "code",
      "source": [
        "model.score(x, y)"
      ],
      "metadata": {
        "colab": {
          "base_uri": "https://localhost:8080/"
        },
        "id": "cE5BaKx537T0",
        "outputId": "bba7c280-6004-412d-e4de-7e220995369f"
      },
      "execution_count": 65,
      "outputs": [
        {
          "output_type": "execute_result",
          "data": {
            "text/plain": [
              "0.92"
            ]
          },
          "metadata": {},
          "execution_count": 65
        }
      ]
    },
    {
      "cell_type": "code",
      "source": [
        "np.savetxt(\"our_propensities.ascii\", predicted_propensity, delimiter=\" \")"
      ],
      "metadata": {
        "id": "VQhxkD5d39Bg"
      },
      "execution_count": 66,
      "outputs": []
    },
    {
      "cell_type": "code",
      "source": [
        "np.genfromtxt(\"our_propensities.ascii\", dtype=None).shape"
      ],
      "metadata": {
        "colab": {
          "base_uri": "https://localhost:8080/"
        },
        "id": "zTp6zfhz6vPS",
        "outputId": "31f8d90c-eb56-4d57-e06e-2da1b7a745d1"
      },
      "execution_count": 70,
      "outputs": [
        {
          "output_type": "execute_result",
          "data": {
            "text/plain": [
              "(290, 300)"
            ]
          },
          "metadata": {},
          "execution_count": 70
        }
      ]
    }
  ]
}